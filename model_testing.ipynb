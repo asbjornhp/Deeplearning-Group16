{
 "cells": [
  {
   "cell_type": "code",
   "execution_count": 1,
   "metadata": {},
   "outputs": [],
   "source": [
    "import torch\n",
    "import numpy as np\n",
    "import pandas as pd\n",
    "import matplotlib.pyplot as plt"
   ]
  },
  {
   "cell_type": "code",
   "execution_count": 2,
   "metadata": {},
   "outputs": [],
   "source": [
    "# Create a dataset from directories cars_fake and cars_real\n",
    "from torchvision import datasets, transforms\n",
    "\n",
    "# Create a dataset from directories cars_fake and cars_real\n",
    "data_dirs = ['cars_fake', 'cars_real']"
   ]
  },
  {
   "cell_type": "markdown",
   "metadata": {},
   "source": [
    "### Models"
   ]
  },
  {
   "cell_type": "code",
   "execution_count": 3,
   "metadata": {},
   "outputs": [],
   "source": [
    "import torch.nn as nn \n",
    "import torch\n",
    "\n",
    "from resnet50nodown import resnet50nodown\n",
    "\n",
    "\n",
    "class DIMD(nn.Module):\n",
    "\n",
    "    def __init__(self):\n",
    "        super(DIMD, self).__init__()\n",
    "        self.model = resnet50nodown(num_classes=1)\n",
    "\n",
    "    def forward(self, x):\n",
    "        return self.model(x)\n",
    "\n",
    "    def load_weights(self, ckpt):\n",
    "        state_dict = torch.load(ckpt, map_location='cpu')\n",
    "        try:\n",
    "            self.model.load_state_dict(state_dict['model'])\n",
    "            if ('module._conv_stem.weight' in state_dict['model']) or ('module.fc.fc1.weight' in state_dict['model']) or ('module.fc.weight' in state_dict['model']):\n",
    "                self.load_state_dict({key[7:]: state_dict['model'][key] for key in state_dict['model']})\n",
    "            else:\n",
    "                self.model.load_state_dict(state_dict['model'])\n",
    "\n",
    "        except:\n",
    "            print('Loading state dict failed. Trying to load without model prefix.')\n",
    "            self.model.load_state_dict(state_dict)\n",
    "\n",
    "    def predict(self, img):\n",
    "        with torch.no_grad():\n",
    "            logits = self.forward(img)\n",
    "            return logits.sigmoid().flatten().tolist()"
   ]
  },
  {
   "cell_type": "code",
   "execution_count": 7,
   "metadata": {},
   "outputs": [],
   "source": [
    "import clip \n",
    "\n",
    "import torch.nn as nn \n",
    "import torch\n",
    "\n",
    "\n",
    "class UnivFD(nn.Module):\n",
    "    def __init__(self, num_classes=1):\n",
    "        super(UnivFD, self).__init__()\n",
    "        self.model, _ = clip.load(\"ViT-L/14\", device=\"cpu\")\n",
    "        self.fc = nn.Linear(768, num_classes)\n",
    "\n",
    "    def forward(self, x):\n",
    "        features = self.model.encode_image(x) \n",
    "        return self.fc(features)\n",
    "    \n",
    "    def load_weights(self, ckpt):\n",
    "        state_dict = torch.load(ckpt, map_location='cpu')\n",
    "        self.fc.load_state_dict(state_dict)\n",
    "\n",
    "    def predict(self, img):\n",
    "        with torch.no_grad():\n",
    "            logits = self.forward(img)\n",
    "            return logits.sigmoid().flatten().tolist()\n",
    "        "
   ]
  },
  {
   "cell_type": "code",
   "execution_count": 8,
   "metadata": {},
   "outputs": [
    {
     "name": "stderr",
     "output_type": "stream",
     "text": [
      "100%|███████████████████████████████████████| 890M/890M [03:42<00:00, 4.19MiB/s]\n"
     ]
    }
   ],
   "source": [
    "DIMD_model = DIMD()\n",
    "DIMD_model.load_weights('../DIMD_latent_weights/model_epoch_best.pth')\n",
    "\n",
    "UnivFD_model = UnivFD()\n",
    "UnivFD_model.load_weights('../UnivFD_weights/fc_weights.pth')"
   ]
  },
  {
   "cell_type": "code",
   "execution_count": null,
   "metadata": {},
   "outputs": [],
   "source": []
  },
  {
   "cell_type": "code",
   "execution_count": 9,
   "metadata": {},
   "outputs": [
    {
     "name": "stdout",
     "output_type": "stream",
     "text": [
      "[0.9366340637207031]\n"
     ]
    }
   ],
   "source": [
    "# Predict on a single image\n",
    "from PIL import Image\n",
    "from torchvision import transforms\n",
    "\n",
    "def predict_image(image_path, model):\n",
    "    img = Image.open(image_path)\n",
    "    img = img.crop((0, 0, 224, 224))\n",
    "    img = transforms.ToTensor()(img).unsqueeze(0)\n",
    "    return model.predict(img)\n",
    "\n",
    "# Predict on a single image\n",
    "img_path = \"cars_fake\\\\Acura Integra Type R 2001\\\\1.png\"\n",
    "\n",
    "result = predict_image(img_path, UnivFD_model)\n",
    "\n",
    "print(result)"
   ]
  },
  {
   "cell_type": "code",
   "execution_count": 11,
   "metadata": {},
   "outputs": [
    {
     "name": "stdout",
     "output_type": "stream",
     "text": [
      "Model accuracy: 0.64\n"
     ]
    }
   ],
   "source": [
    "import os as os\n",
    "from sklearn.metrics import accuracy_score\n",
    "\n",
    "#crawl through the directories cars_fake and cars_real and their subdirectories\n",
    "\n",
    "def crawl_directories(directory):\n",
    "    results = []\n",
    "    for root, dirs, files in os.walk(directory):\n",
    "        for file in files:\n",
    "            if file.endswith(\".png\") or file.endswith(\".jpg\"):\n",
    "                results.append(os.path.join(root, file))\n",
    "    return results\n",
    "\n",
    "fake_images = crawl_directories(\"cars_fake\")\n",
    "real_images = crawl_directories(\"cars_real\")\n",
    "\n",
    "# Predict on all images\n",
    "fake_results = [predict_image(img, UnivFD_model) for img in fake_images]\n",
    "real_results = [predict_image(img, UnivFD_model) for img in real_images]\n",
    "\n",
    "# Create a dataframe\n",
    "df = pd.DataFrame(fake_results + real_results, columns=['score'])\n",
    "df['label'] = ['fake'] * len(fake_results) + ['real'] * len(real_results)\n",
    "\n",
    "df['predicted_label'] = df['score'].apply(lambda x: 'real' if x < 0.5 else 'fake')\n",
    "accuracy = accuracy_score(df['label'], df['predicted_label'])\n",
    "print(f\"Model accuracy: {accuracy:.2f}\")"
   ]
  },
  {
   "cell_type": "code",
   "execution_count": 12,
   "metadata": {},
   "outputs": [
    {
     "data": {
      "text/html": [
       "<div>\n",
       "<style scoped>\n",
       "    .dataframe tbody tr th:only-of-type {\n",
       "        vertical-align: middle;\n",
       "    }\n",
       "\n",
       "    .dataframe tbody tr th {\n",
       "        vertical-align: top;\n",
       "    }\n",
       "\n",
       "    .dataframe thead th {\n",
       "        text-align: right;\n",
       "    }\n",
       "</style>\n",
       "<table border=\"1\" class=\"dataframe\">\n",
       "  <thead>\n",
       "    <tr style=\"text-align: right;\">\n",
       "      <th></th>\n",
       "      <th>score</th>\n",
       "      <th>label</th>\n",
       "      <th>predicted_label</th>\n",
       "    </tr>\n",
       "  </thead>\n",
       "  <tbody>\n",
       "    <tr>\n",
       "      <th>0</th>\n",
       "      <td>0.415468</td>\n",
       "      <td>fake</td>\n",
       "      <td>real</td>\n",
       "    </tr>\n",
       "    <tr>\n",
       "      <th>1</th>\n",
       "      <td>0.936634</td>\n",
       "      <td>fake</td>\n",
       "      <td>fake</td>\n",
       "    </tr>\n",
       "    <tr>\n",
       "      <th>2</th>\n",
       "      <td>0.575678</td>\n",
       "      <td>fake</td>\n",
       "      <td>fake</td>\n",
       "    </tr>\n",
       "    <tr>\n",
       "      <th>3</th>\n",
       "      <td>0.045171</td>\n",
       "      <td>fake</td>\n",
       "      <td>real</td>\n",
       "    </tr>\n",
       "    <tr>\n",
       "      <th>4</th>\n",
       "      <td>0.312099</td>\n",
       "      <td>fake</td>\n",
       "      <td>real</td>\n",
       "    </tr>\n",
       "    <tr>\n",
       "      <th>...</th>\n",
       "      <td>...</td>\n",
       "      <td>...</td>\n",
       "      <td>...</td>\n",
       "    </tr>\n",
       "    <tr>\n",
       "      <th>95</th>\n",
       "      <td>0.005930</td>\n",
       "      <td>real</td>\n",
       "      <td>real</td>\n",
       "    </tr>\n",
       "    <tr>\n",
       "      <th>96</th>\n",
       "      <td>0.000831</td>\n",
       "      <td>real</td>\n",
       "      <td>real</td>\n",
       "    </tr>\n",
       "    <tr>\n",
       "      <th>97</th>\n",
       "      <td>0.007018</td>\n",
       "      <td>real</td>\n",
       "      <td>real</td>\n",
       "    </tr>\n",
       "    <tr>\n",
       "      <th>98</th>\n",
       "      <td>0.003862</td>\n",
       "      <td>real</td>\n",
       "      <td>real</td>\n",
       "    </tr>\n",
       "    <tr>\n",
       "      <th>99</th>\n",
       "      <td>0.073865</td>\n",
       "      <td>real</td>\n",
       "      <td>real</td>\n",
       "    </tr>\n",
       "  </tbody>\n",
       "</table>\n",
       "<p>100 rows × 3 columns</p>\n",
       "</div>"
      ],
      "text/plain": [
       "       score label predicted_label\n",
       "0   0.415468  fake            real\n",
       "1   0.936634  fake            fake\n",
       "2   0.575678  fake            fake\n",
       "3   0.045171  fake            real\n",
       "4   0.312099  fake            real\n",
       "..       ...   ...             ...\n",
       "95  0.005930  real            real\n",
       "96  0.000831  real            real\n",
       "97  0.007018  real            real\n",
       "98  0.003862  real            real\n",
       "99  0.073865  real            real\n",
       "\n",
       "[100 rows x 3 columns]"
      ]
     },
     "execution_count": 12,
     "metadata": {},
     "output_type": "execute_result"
    }
   ],
   "source": [
    "df.head(100)"
   ]
  },
  {
   "cell_type": "code",
   "execution_count": null,
   "metadata": {},
   "outputs": [
    {
     "name": "stderr",
     "output_type": "stream",
     "text": [
      "C:\\Users\\asbjo\\AppData\\Local\\Temp\\ipykernel_23232\\3985867426.py:3: DeprecationWarning: DataFrameGroupBy.apply operated on the grouping columns. This behavior is deprecated, and in a future version of pandas the grouping columns will be excluded from the operation. Either pass `include_groups=False` to exclude the groupings or explicitly select the grouping columns after groupby to silence this warning.\n",
      "  classwise_accuracy = df.groupby('label').apply(lambda x: accuracy_score(x['label'], x['predicted_label']))\n"
     ]
    }
   ],
   "source": [
    "# Classwise accuracy\n",
    "\n",
    "classwise_accuracy = df.groupby('label').apply(lambda x: accuracy_score(x['label'], x['predicted_label']))"
   ]
  },
  {
   "cell_type": "code",
   "execution_count": 14,
   "metadata": {},
   "outputs": [
    {
     "data": {
      "text/plain": [
       "label\n",
       "fake    0.46875\n",
       "real    0.81250\n",
       "dtype: float64"
      ]
     },
     "execution_count": 14,
     "metadata": {},
     "output_type": "execute_result"
    }
   ],
   "source": [
    "classwise_accuracy"
   ]
  },
  {
   "cell_type": "code",
   "execution_count": null,
   "metadata": {},
   "outputs": [],
   "source": []
  }
 ],
 "metadata": {
  "kernelspec": {
   "display_name": "Python 3",
   "language": "python",
   "name": "python3"
  },
  "language_info": {
   "codemirror_mode": {
    "name": "ipython",
    "version": 3
   },
   "file_extension": ".py",
   "mimetype": "text/x-python",
   "name": "python",
   "nbconvert_exporter": "python",
   "pygments_lexer": "ipython3",
   "version": "3.11.4"
  }
 },
 "nbformat": 4,
 "nbformat_minor": 2
}
